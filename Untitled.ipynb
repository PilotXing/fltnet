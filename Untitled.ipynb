{
 "cells": [
  {
   "cell_type": "code",
   "execution_count": 29,
   "id": "39726733",
   "metadata": {},
   "outputs": [],
   "source": [
    "from exchangelib import Credentials, Account, Configuration,CalendarItem\n",
    "from checkcode import PASSWORD\n",
    "import datetime\n",
    "credentials = Credentials(username='hna.net\\\\zih.xing',password = PASSWORD)\n",
    "my_account= Account(credentials=credentials,autodiscover=True, primary_smtp_address='zih.xing@hnair.com')"
   ]
  },
  {
   "cell_type": "code",
   "execution_count": 35,
   "id": "3f6ccdce",
   "metadata": {},
   "outputs": [
    {
     "data": {
      "text/plain": [
       "'云执照经历监控提醒'"
      ]
     },
     "execution_count": 35,
     "metadata": {},
     "output_type": "execute_result"
    }
   ],
   "source": [
    "my_account.inbox.all()[2].subject"
   ]
  },
  {
   "cell_type": "code",
   "execution_count": 31,
   "id": "8afbd152",
   "metadata": {},
   "outputs": [],
   "source": [
    "for rl in my_account.protocol.get_roomlists():\n",
    "    print(my_account.protocol.get_rooms(rl))\n"
   ]
  },
  {
   "cell_type": "code",
   "execution_count": 52,
   "id": "df816169",
   "metadata": {},
   "outputs": [
    {
     "name": "stdout",
     "output_type": "stream",
     "text": [
      "('星期三', '2022-11-02', 'B1726', 'HU7277', '06:30', '京-杭', '08:15    ', '副驾驶3-B737')\n"
     ]
    }
   ],
   "source": [
    "from math import remainder\n",
    "import pytz\n",
    "tz_cn = pytz.timezone('Asia/Shanghai')\n",
    "\n",
    "my_schedule = [('星期三', '2022-11-02', 'B1726', 'HU7277', '06:30', '京-杭', '08:15    ', '副驾驶3-B737'),\n",
    "('星期三', '2022-11-02', 'B5520', 'HU7278', '', '杭-京', '11:45    ', '副驾驶3-B737')]\n",
    "print(my_schedule[0])\n",
    "\n",
    "for sc in my_schedule:\n",
    "    if sc[4]:\n",
    "        signtime = sc[1]+' '+ sc[4]\n",
    "        st = datetime.datetime.strptime(signtime,'%Y-%m-%d %H:%M')\n",
    "        start = tz_cn.localize(st)\n",
    "        end = start+ datetime.timedelta(hours=13)\n",
    "        flight=CalendarItem(account=my_account, folder=my_account.calendar,start=start, end= end,subject=sc[3]+sc[5],body=sc[6],reminder_minutes_before_start=60)\n",
    "        flight.save()"
   ]
  },
  {
   "cell_type": "code",
   "execution_count": 33,
   "id": "76ae2547",
   "metadata": {},
   "outputs": [
    {
     "data": {
      "text/plain": [
       "CalendarItem(mime_content=None, _id=ItemId(id='AAMkADFkZjVlYTM3LTU2OTctNDlkNy1iZThhLTkwNmEwMTBlMjIwNQBGAAAAAAAmtPgxPfwdQZy9LeXVzXCVBwCbHrbVzuIcS5pvYyNPrD+mAAAAngqgAACbHrbVzuIcS5pvYyNPrD+mAADP4HFBAAA=', changekey='DwAAABYAAACbHrbVzuIcS5pvYyNPrD+mAADP5R8W'), parent_folder_id=None, item_class=None, subject='test', sensitivity='Normal', text_body=None, body=None, attachments=[], datetime_received=None, size=None, categories=None, importance='Normal', in_reply_to=None, is_submitted=None, is_draft=None, is_from_me=None, is_resend=None, is_unmodified=None, headers=None, datetime_sent=None, datetime_created=None, response_objects=None, reminder_due_by=None, reminder_is_set=False, reminder_minutes_before_start=0, display_cc=None, display_to=None, has_attachments=None, culture=None, effective_rights=None, last_modified_name=None, last_modified_time=None, is_associated=None, web_client_read_form_query_string=None, web_client_edit_form_query_string=None, conversation_id=None, unique_body=None, uid=None, recurrence_id=None, start=EWSDateTime(2022, 10, 30, 16, 40, tzinfo=EWSTimeZone(key='Asia/Shanghai')), end=EWSDateTime(2022, 10, 30, 18, 40, tzinfo=EWSTimeZone(key='Asia/Shanghai')), original_start=None, is_all_day=False, legacy_free_busy_status='Busy', location=None, when=None, is_meeting=None, is_cancelled=None, is_recurring=None, meeting_request_was_sent=None, is_response_requested=None, type=None, my_response_type=None, organizer=None, required_attendees=None, optional_attendees=None, resources=None, conflicting_meeting_count=None, adjacent_meeting_count=None, conflicting_meetings=None, adjacent_meetings=None, duration=None, appointment_reply_time=None, appointment_sequence_number=None, appointment_state=None, recurrence=None, first_occurrence=None, last_occurrence=None, modified_occurrences=None, deleted_occurrences=None, _meeting_timezone=None, _start_timezone=EWSTimeZone(key='Asia/Shanghai'), _end_timezone=EWSTimeZone(key='Asia/Shanghai'), conference_type=None, allow_new_time_proposal=None, is_online_meeting=None, meeting_workspace_url=None, net_show_url=None)"
      ]
     },
     "execution_count": 33,
     "metadata": {},
     "output_type": "execute_result"
    }
   ],
   "source": [
    "start =  datetime.datetime(2022,10,30,16,40,tzinfo=my_account.default_timezone)\n",
    "end = start+datetime.timedelta(hours=2)\n",
    "flight = CalendarItem(account=my_account, folder = my_account.calendar,start=start,end=end,subject='test')\n",
    "flight.save()"
   ]
  },
  {
   "cell_type": "code",
   "execution_count": 56,
   "id": "d3e1d16b",
   "metadata": {},
   "outputs": [
    {
     "data": {
      "text/plain": [
       "str"
      ]
     },
     "execution_count": 56,
     "metadata": {},
     "output_type": "execute_result"
    }
   ],
   "source": [
    "type(datetime.datetime.now().date().isoformat())"
   ]
  },
  {
   "cell_type": "markdown",
   "id": "0a072d3d",
   "metadata": {},
   "source": [
    "{'start': '2022-10-30', 'end': '2022-11-05', 'lastFltPubDate': '2022-10-30 18:21:08', 'lastAdditionPubDate': None, 'lastBackupPubDate': None, 'lastAdministrationPubDate': None, 'lastTrainPubDate': None, 'records': [{'id': 0, 'taskType': 0, 'week': 4, 'fltDate': '2022-11-02', 'startTime': 1667348100000, 'endTime': 1667356200000, 'deptDate': 0, 'returnDate': 0, 'remark': None, 'sector': 'PEK-HGH', 'sectorNick': '京-杭', 'companyCode': 'HNA', 'acNo': 'B1726', 'acType': '737', 'fltNo': 'HU7277', 'fltInfo': None, 'signUpTime': None, 'rankSd': '副驾驶 3-B737', 'inspector': None, 'seatCode': None, 'projectName': None, 'trainType': None, 'trainAddress': None, 'trainDetail': None, 'courseName': None, 'classDesc': None, 'staffName': None, 'role': None, 'trainChlSubjectName': None, 'trainUnitSubjectName': None, 'trainOrg': None, 'trainSource': None, 'std': '2022-11-02 08:15:00', 'sta': '2022-11-02 10:30:00', 'prepare': 2, 'studentNameList': None, 'teacherNameList': None, 'checkerNameList': None, 'fltDateCn': '2022-11-02', 'departTimeCn': '2022-11-02 08:15:00', 'signUpEndTime': '2022-11-02 06:30:00', 'signUpStartTime': '2022-11-02 04:30:00', 'administrationType': None}, {'id': 1, 'taskType': 0, 'week': 4, 'fltDate': '2022-11-02', 'startTime': 1667360700000, 'endTime': 1667369400000, 'deptDate': 0, 'returnDate': 0, 'remark': None, 'sector': 'HGH-PEK', 'sectorNick': '杭-京', 'companyCode': 'HNA', 'acNo': 'B5520', 'acType': '737', 'fltNo': 'HU7278', 'fltInfo': None, 'signUpTime': None, 'rankSd': '副驾驶 3-B737', 'inspector': None, 'seatCode': None, 'projectName': None, 'trainType': None, 'trainAddress': None, 'trainDetail': None, 'courseName': None, 'classDesc': None, 'staffName': None, 'role': None, 'trainChlSubjectName': None, 'trainUnitSubjectName': None, 'trainOrg': None, 'trainSource': None, 'std': '2022-11-02 11:45:00', 'sta': '2022-11-02 14:10:00', 'prepare': 2, 'studentNameList': None, 'teacherNameList': None, 'checkerNameList': None, 'fltDateCn': '2022-11-02', 'departTimeCn': '2022-11-02 11:45:00', 'signUpEndTime': None, 'signUpStartTime': None, 'administrationType': None}]}\n"
   ]
  },
  {
   "cell_type": "code",
   "execution_count": 57,
   "id": "1e91a968",
   "metadata": {},
   "outputs": [
    {
     "data": {
      "text/plain": [
       "{'bindCompanyCode': 'HNA',\n",
       " 'flightNo': 'HU7278',\n",
       " 'flightDate': '2022-11-02',\n",
       " 'crewTypeId': '1',\n",
       " 'hrCrewType': '1',\n",
       " 'staffId': '1000135843',\n",
       " 'staffId___': None,\n",
       " 'loginId': 'ss-yue',\n",
       " 'account': 'ss-yue',\n",
       " 'staffName': '岳硕硕',\n",
       " 'originalRankSd': '巡航机长',\n",
       " 'techLevelName': '副驾驶8-B737',\n",
       " 'rankSd': '副驾驶8-B737',\n",
       " 'inspector': None,\n",
       " 'acNo': 'B5520',\n",
       " 'aircraftType': '737',\n",
       " 'sector': 'HGH-PEK',\n",
       " 'sectorNick': '杭-京',\n",
       " 'departTime': '2022-11-02 11:45:00',\n",
       " 'arrivalDate': '2022-11-02 14:10:00',\n",
       " 'remark': None,\n",
       " 'deptName': '三大队三中队',\n",
       " 'sex': '1',\n",
       " 'mobile': '18132089900',\n",
       " 'joinCompanyDate': '2011-06-30',\n",
       " 'enterGroupDate': '2011-06-30 00:00:00.0',\n",
       " 'rankLevel': None,\n",
       " 'companyNodeId': '9',\n",
       " 'companyCode': 'HNA',\n",
       " 'asSameFlight': None,\n",
       " 'addCrewType': None,\n",
       " 'orderingMeal': False,\n",
       " 'dinnerList': None,\n",
       " 'snackList': None,\n",
       " 'language': None}"
      ]
     },
     "execution_count": 57,
     "metadata": {},
     "output_type": "execute_result"
    }
   ],
   "source": [
    "crew = {'bindCompanyCode': 'HNA', 'flightNo': 'HU7278', 'flightDate': '2022-11-02', 'crewTypeId': '1', 'hrCrewType': '1', 'staffId': '1000135843', 'staffId___': None, 'loginId': 'ss-yue', 'account': 'ss-yue', 'staffName': '岳硕硕', 'originalRankSd': '巡航机长', 'techLevelName': '副驾驶8-B737', 'rankSd': '副驾驶8-B737', 'inspector': None, 'acNo': 'B5520', 'aircraftType': '737', 'sector': 'HGH-PEK', 'sectorNick': '杭-京', 'departTime': '2022-11-02 11:45:00', 'arrivalDate': '2022-11-02 14:10:00', 'remark': None, 'deptName': '三大队三中队', 'sex': '1', 'mobile': '18132089900', 'joinCompanyDate': '2011-06-30', 'enterGroupDate': '2011-06-30 00:00:00.0', 'rankLevel': None, 'companyNodeId': '9', 'companyCode': 'HNA', 'asSameFlight': None, 'addCrewType': None, 'orderingMeal': False, 'dinnerList': None, 'snackList': None, 'language': None}"
   ]
  },
  {
   "cell_type": "code",
   "execution_count": 70,
   "id": "1d36bedb",
   "metadata": {},
   "outputs": [],
   "source": [
    "from exchangelib.indexed_properties import EmailAddress,PhoneNumber\n",
    "from exchangelib.properties import CompleteName\n",
    "gal = my_account.contacts\n",
    "# gmail_addresseAs = [\n",
    "#     e.email for c in gal.filter(\n",
    "#         email_addresses__contains=EmailAddress(email='hnair.com')) for e in c.email_addresses\n",
    "# ]\n"
   ]
  },
  {
   "cell_type": "code",
   "execution_count": 101,
   "id": "9007f52a",
   "metadata": {},
   "outputs": [
    {
     "data": {
      "text/plain": [
       "Contact(mime_content=None, _id=ItemId(id='AAMkADFkZjVlYTM3LTU2OTctNDlkNy1iZThhLTkwNmEwMTBlMjIwNQBGAAAAAAAmtPgxPfwdQZy9LeXVzXCVBwCbHrbVzuIcS5pvYyNPrD+mAAAAngqhAACbHrbVzuIcS5pvYyNPrD+mAADP35BBAAA=', changekey='EQAAABYAAACbHrbVzuIcS5pvYyNPrD+mAADP5SMg'), parent_folder_id=None, item_class=None, subject=None, sensitivity='Normal', text_body=None, body='2022-11-02 HU7278', attachments=[], datetime_received=None, size=None, categories=None, importance='Normal', in_reply_to=None, is_submitted=None, is_draft=None, is_from_me=None, is_resend=None, is_unmodified=None, headers=None, datetime_sent=None, datetime_created=None, response_objects=None, reminder_due_by=None, reminder_is_set=False, reminder_minutes_before_start=0, display_cc=None, display_to=None, has_attachments=None, culture=None, effective_rights=None, last_modified_name=None, last_modified_time=None, is_associated=None, web_client_read_form_query_string=None, web_client_edit_form_query_string=None, conversation_id=None, unique_body=None, file_as=None, file_as_mapping=None, display_name='岳硕硕', given_name='岳硕硕', initials=None, middle_name=None, nickname=None, complete_name=None, company_name='HNA', email_addresses=None, physical_addresses=None, phone_numbers=[PhoneNumber(label='MobilePhone', phone_number='18132089900')], assistant_name=None, birthday=EWSDate(2011, 6, 30), business_homepage=None, children=None, companies=None, contact_source=None, department=None, generation=None, im_addresses=None, job_title='副驾驶8-B737', manager=None, mileage=None, office=None, postal_address_index='None', profession=None, spouse_name=None, surname=None, wedding_anniversary=None, has_picture=None, phonetic_full_name=None, phonetic_first_name=None, phonetic_last_name=None, email_alias=None, notes=None, photo=None, user_smime_certificate=None, ms_exchange_certificate=None, directory_id=None, manager_mailbox=None, direct_reports=None)"
      ]
     },
     "execution_count": 101,
     "metadata": {},
     "output_type": "execute_result"
    }
   ],
   "source": [
    "from exchangelib import Contact\n",
    "join_group_date = crew.get('enterGroupDate')[:-2]\n",
    "jgd= datetime.datetime.strptime(join_group_date,'%Y-%m-%d %H:%M:%S').date()\n",
    "# tzjgd = tz_cn.localize(jgd)\n",
    "contact = Contact(\n",
    "    folder = my_account.contacts,\n",
    "    account = my_account,\n",
    "    given_name = crew.get('staffName'),\n",
    "    display_name = crew.get('staffName'),\n",
    "    phone_numbers=[PhoneNumber(\n",
    "        label = 'MobilePhone', \n",
    "        phone_number = crew.get('mobile')\n",
    "        )],\n",
    "    job_title = crew.get('techLevelName'),\n",
    "    company_name = 'HNA',\n",
    "    body = crew.get('flightDate') + ' '+ crew.get('flightNo'),\n",
    "    birthday = jgd\n",
    ")\n",
    "contact.save()"
   ]
  },
  {
   "cell_type": "code",
   "execution_count": 125,
   "id": "a7c18a0f",
   "metadata": {},
   "outputs": [
    {
     "ename": "NameError",
     "evalue": "name 'DoesNotExist' is not defined",
     "output_type": "error",
     "traceback": [
      "\u001b[0;31m---------------------------------------------------------------------------\u001b[0m",
      "\u001b[0;31mDoesNotExist\u001b[0m                              Traceback (most recent call last)",
      "Cell \u001b[0;32mIn [125], line 2\u001b[0m\n\u001b[1;32m      1\u001b[0m \u001b[38;5;28;01mtry\u001b[39;00m:\n\u001b[0;32m----> 2\u001b[0m     res \u001b[38;5;241m=\u001b[39m gal\u001b[38;5;241m.\u001b[39mget(given_name \u001b[38;5;241m=\u001b[39m \u001b[38;5;124m'\u001b[39m\u001b[38;5;124m邢子辉\u001b[39m\u001b[38;5;124m'\u001b[39m)\n\u001b[1;32m      3\u001b[0m     \u001b[38;5;28mprint\u001b[39m(res)\n",
      "File \u001b[0;32m/Library/Frameworks/Python.framework/Versions/3.10/lib/python3.10/site-packages/exchangelib/folders/base.py:338\u001b[0m, in \u001b[0;36mBaseFolder.get\u001b[0;34m(self, *args, **kwargs)\u001b[0m\n\u001b[1;32m    337\u001b[0m \u001b[39mdef\u001b[39;00m \u001b[39mget\u001b[39m(\u001b[39mself\u001b[39m, \u001b[39m*\u001b[39margs, \u001b[39m*\u001b[39m\u001b[39m*\u001b[39mkwargs):\n\u001b[0;32m--> 338\u001b[0m     \u001b[39mreturn\u001b[39;00m FolderCollection(account\u001b[39m=\u001b[39;49m\u001b[39mself\u001b[39;49m\u001b[39m.\u001b[39;49maccount, folders\u001b[39m=\u001b[39;49m[\u001b[39mself\u001b[39;49m])\u001b[39m.\u001b[39;49mget(\u001b[39m*\u001b[39;49margs, \u001b[39m*\u001b[39;49m\u001b[39m*\u001b[39;49mkwargs)\n",
      "File \u001b[0;32m/Library/Frameworks/Python.framework/Versions/3.10/lib/python3.10/site-packages/exchangelib/folders/collections.py:52\u001b[0m, in \u001b[0;36mFolderCollection.get\u001b[0;34m(self, *args, **kwargs)\u001b[0m\n\u001b[1;32m     51\u001b[0m \u001b[39mdef\u001b[39;00m \u001b[39mget\u001b[39m(\u001b[39mself\u001b[39m, \u001b[39m*\u001b[39margs, \u001b[39m*\u001b[39m\u001b[39m*\u001b[39mkwargs):\n\u001b[0;32m---> 52\u001b[0m     \u001b[39mreturn\u001b[39;00m QuerySet(\u001b[39mself\u001b[39;49m)\u001b[39m.\u001b[39;49mget(\u001b[39m*\u001b[39;49margs, \u001b[39m*\u001b[39;49m\u001b[39m*\u001b[39;49mkwargs)\n",
      "File \u001b[0;32m/Library/Frameworks/Python.framework/Versions/3.10/lib/python3.10/site-packages/exchangelib/queryset.py:524\u001b[0m, in \u001b[0;36mQuerySet.get\u001b[0;34m(self, *args, **kwargs)\u001b[0m\n\u001b[1;32m    523\u001b[0m \u001b[39mif\u001b[39;00m \u001b[39mnot\u001b[39;00m items:\n\u001b[0;32m--> 524\u001b[0m     \u001b[39mraise\u001b[39;00m DoesNotExist()\n\u001b[1;32m    525\u001b[0m \u001b[39mif\u001b[39;00m \u001b[39mlen\u001b[39m(items) \u001b[39m!=\u001b[39m \u001b[39m1\u001b[39m:\n",
      "\u001b[0;31mDoesNotExist\u001b[0m: ",
      "\nDuring handling of the above exception, another exception occurred:\n",
      "\u001b[0;31mNameError\u001b[0m                                 Traceback (most recent call last)",
      "Cell \u001b[0;32mIn [125], line 4\u001b[0m\n\u001b[1;32m      2\u001b[0m     res \u001b[38;5;241m=\u001b[39m gal\u001b[38;5;241m.\u001b[39mget(given_name \u001b[38;5;241m=\u001b[39m \u001b[38;5;124m'\u001b[39m\u001b[38;5;124m邢子辉\u001b[39m\u001b[38;5;124m'\u001b[39m)\n\u001b[1;32m      3\u001b[0m     \u001b[38;5;28mprint\u001b[39m(res)\n\u001b[0;32m----> 4\u001b[0m \u001b[38;5;28;01mexcept\u001b[39;00m DoesNotExist:\n\u001b[1;32m      5\u001b[0m     \u001b[38;5;28mprint\u001b[39m(\u001b[38;5;124m'\u001b[39m\u001b[38;5;124mno\u001b[39m\u001b[38;5;124m'\u001b[39m)\n",
      "\u001b[0;31mNameError\u001b[0m: name 'DoesNotExist' is not defined"
     ]
    }
   ],
   "source": [
    "try:\n",
    "    res = gal.get(given_name = '邢子辉')\n",
    "    print(res)\n",
    "except DoesNotExist:\n",
    "    print('no')\n",
    "# if res:\n",
    "#     body = res.body\n",
    "#     new_body = body+'\\n'+crew.get('flightDate') + ' '+ crew.get('flightNo')\n",
    "#     res.body = new_body\n",
    "#     res.save(update_fields=['body'])"
   ]
  }
 ],
 "metadata": {
  "kernelspec": {
   "display_name": "Python 3.10.7 64-bit",
   "language": "python",
   "name": "python3"
  },
  "language_info": {
   "codemirror_mode": {
    "name": "ipython",
    "version": 3
   },
   "file_extension": ".py",
   "mimetype": "text/x-python",
   "name": "python",
   "nbconvert_exporter": "python",
   "pygments_lexer": "ipython3",
   "version": "3.10.7"
  },
  "vscode": {
   "interpreter": {
    "hash": "949777d72b0d2535278d3dc13498b2535136f6dfe0678499012e853ee9abcab1"
   }
  }
 },
 "nbformat": 4,
 "nbformat_minor": 5
}
