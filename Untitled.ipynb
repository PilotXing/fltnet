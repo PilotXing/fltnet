{
 "cells": [
  {
   "cell_type": "code",
   "execution_count": null,
   "id": "3a37cab2",
   "metadata": {},
   "outputs": [],
   "source": [
    "from checkcode import login_browser,get_schedule,Schedule\n",
    "browser, session =login_browser()\n",
    "schedules = get_schedule(session=session,show_day='2022-12-15')\n",
    "for schedule in schedules:\n",
    "    flight = Schedule(schedule,session=session)\n",
    "    flight.to_calendar()\n",
    "    flight.save_crews()"
   ]
  },
  {
   "cell_type": "markdown",
   "id": "9c184bd3",
   "metadata": {},
   "source": []
  },
  {
   "cell_type": "code",
   "execution_count": null,
   "id": "656f23a4",
   "metadata": {},
   "outputs": [],
   "source": [
    "\n",
    "# from checkcode import get_crew_info\n",
    "# schedule = schedules[0]\n",
    "# crew = get_crew_info(session=session,fltInfo= schedule, crewTypeId=1)\n"
   ]
  },
  {
   "cell_type": "code",
   "execution_count": null,
   "id": "0b8a91af",
   "metadata": {},
   "outputs": [],
   "source": [
    "# flt_crew = crew.json().get('records')[0]"
   ]
  },
  {
   "cell_type": "code",
   "execution_count": null,
   "id": "74e7f975",
   "metadata": {},
   "outputs": [],
   "source": [
    "# from checkcode import Flight_crew\n",
    "# fc = Flight_crew(flt_crew,session=session)"
   ]
  },
  {
   "cell_type": "code",
   "execution_count": null,
   "id": "89face20",
   "metadata": {},
   "outputs": [],
   "source": [
    "flight = Schedule(fligth_info=schedules[0],session=session)"
   ]
  },
  {
   "cell_type": "code",
   "execution_count": null,
   "id": "ff6dc5b8",
   "metadata": {},
   "outputs": [],
   "source": [
    "flight.flight_crews[1].experiance_hours"
   ]
  },
  {
   "cell_type": "code",
   "execution_count": null,
   "id": "45b85c6a",
   "metadata": {},
   "outputs": [],
   "source": [
    "flight.flight_crews[0].total_hours\n",
    "# flight.flight_crews[0].experiance_hours"
   ]
  },
  {
   "cell_type": "code",
   "execution_count": null,
   "id": "8266ef62",
   "metadata": {},
   "outputs": [],
   "source": [
    "flight.save_crews()"
   ]
  },
  {
   "cell_type": "code",
   "execution_count": null,
   "id": "9f72ace3",
   "metadata": {},
   "outputs": [],
   "source": [
    "from checkcode import Data"
   ]
  },
  {
   "cell_type": "code",
   "execution_count": null,
   "id": "91d73bd6",
   "metadata": {},
   "outputs": [],
   "source": [
    "data = {\"companyCode\": \" HNA\",\n",
    "        \"lang\": \"zh\",\n",
    "        \"planRange\": \"2\",\n",
    "        \"planRange\": \"3\",\n",
    "        \"planRange\": \"4\",\n",
    "        \"planRange\": \"5\",\n",
    "        \"planRange\": \"6\",\n",
    "        \"psonType\": \"10\",\n",
    "        \"psonType\": \"13\",\n",
    "        \"psonType\": \"15\",\n",
    "        \"psonType\": \"14\",\n",
    "        \"planType\": \"1\",\n",
    "        \"planTypeCheckbox\": \"1\",\n",
    "        \"startDate\": \"2022-10-25\",\n",
    "        \"endDate\": \"2022-11-23\",\n",
    "        \"username\": \"1000804239\",\n",
    "        \"returnNatResult\": \"1\",\n",
    "        \"planRange1\": \"1\",\n",
    "        \"companySites\": \"\",\n",
    "        \"depAirportName\": \"\",\n",
    "        \"arrAirportName\": \"\",\n",
    "        \"acTypes\": \"\",\n",
    "        \"acCode\": \"\",\n",
    "        \"flightNo\": \"\",\n",
    "        \"natResults\": \"\",\n",
    "        \"parentTopicId\": \"\",\n",
    "        \"rootTopicId\": \"\",\n",
    "        \"flightType\": \"航班\",\n",
    "        \"flightType\": \"航班坐车\",\n",
    "        \"flightType\": \"坐飞机\",\n",
    "        \"flightType\": \"应急备\",\n",
    "        \"remark\": \"\",\n",
    "        \"page\": \"1\",\n",
    "        \"start\": \"0\",\n",
    "        \"limit\": \"50\",\n",
    "        }\n",
    "data_list = []\n",
    "for k, v in data.items():\n",
    "    data_list.append((k, v))\n"
   ]
  },
  {
   "cell_type": "code",
   "execution_count": null,
   "id": "a7ad6460",
   "metadata": {},
   "outputs": [],
   "source": [
    "planTypeCheckbox1: \n",
    "0\n",
    "planTypeCheckbox: \n",
    "1\n",
    "planTypeCheckbox: \n",
    "2\n",
    "planTypeCheckbox: \n",
    "3\n",
    "planRange1: \n",
    "1\n",
    "planRange: \n",
    "2\n",
    "planRange: \n",
    "3\n",
    "planRange: \n",
    "4\n",
    "planRange: \n",
    "5\n",
    "companyCode: \n",
    "HNA\n",
    "psonType: \n",
    "10\n",
    "psonType: \n",
    "13\n",
    "psonType: \n",
    "15\n",
    "psonType: \n",
    "14\n",
    "startDate: \n",
    "2022-11-23\n",
    "endDate: \n",
    "2022-11-23\n",
    "depAirportName: \n",
    "arrAirportName: \n",
    "acTypes: \n",
    "acCode: \n",
    "flightNo: \n",
    "7604\n",
    "username: \n",
    "returnNatResult: \n",
    "1\n",
    "natResults: \n",
    "planType: \n",
    "0\n",
    "parentTopicId: \n",
    "rootTopicId: \n",
    "flightType: \n",
    "航班\n",
    "flightType: \n",
    "航班坐车\n",
    "flightType: \n",
    "坐飞机\n",
    "flightType: \n",
    "应急备\n",
    "remark: \n",
    "natResult: \n",
    "0\n",
    "page: \n",
    "1\n",
    "start: \n",
    "0\n",
    "limit: \n",
    "50"
   ]
  },
  {
   "cell_type": "code",
   "execution_count": null,
   "id": "609c6922",
   "metadata": {},
   "outputs": [],
   "source": [
    "\n",
    "from checkcode import Urls, Headers\n",
    "r = session.post(url=Urls.schedule, data='planTypeCheckbox1=0&planTypeCheckbox=1&planTypeCheckbox=2&planTypeCheckbox=3&planRange1=1&planRange=2&planRange=3&planRange=4&planRange=5&companyCode=HNA&psonType=10&psonType=13&psonType=15&psonType=14&startDate=2022-11-23&endDate=2022-11-23&depAirportName=&arrAirportName=&acTypes=&acCode=&flightNo=7604&username=&returnNatResult=1&natResults=&planType=0&parentTopicId=&rootTopicId=&flightType=%E8%88%AA%E7%8F%AD&flightType=%E8%88%AA%E7%8F%AD%E5%9D%90%E8%BD%A6&flightType=%E5%9D%90%E9%A3%9E%E6%9C%BA&flightType=%E5%BA%94%E6%80%A5%E5%A4%87&remark=&natResult=0&page=1&start=0&limit=50', headers=Headers.headers)\n"
   ]
  },
  {
   "cell_type": "code",
   "execution_count": null,
   "id": "98198b6b",
   "metadata": {},
   "outputs": [],
   "source": [
    "r.json()"
   ]
  },
  {
   "cell_type": "code",
   "execution_count": 4,
   "id": "b5f18fa1",
   "metadata": {},
   "outputs": [
    {
     "name": "stdout",
     "output_type": "stream",
     "text": [
      "A init\n",
      "A.ccc None\n",
      "B init\n",
      "B.ccc ccc\n",
      "print_ccc ccc\n"
     ]
    }
   ],
   "source": [
    "class A:\n",
    "    def __init__(self) -> None:\n",
    "        self.aaa='aaa'\n",
    "        self.ccc=None\n",
    "        print('A init')\n",
    "        print('A.ccc',self.ccc)\n",
    "    def print_ccc(self):\n",
    "        print('print_ccc',self.ccc)\n",
    "\n",
    "class B(A):\n",
    "    def __init__(self) -> None:\n",
    "        super().__init__()\n",
    "        self.ccc= self.get_ccc()\n",
    "        print('B init')\n",
    "        print('B.ccc',self.ccc)\n",
    "    def get_ccc(self):\n",
    "        return 'ccc'\n",
    "\n",
    "zzz=B()\n",
    "zzz.print_ccc()"
   ]
  }
 ],
 "metadata": {
  "kernelspec": {
   "display_name": "Python 3.10.7 64-bit",
   "language": "python",
   "name": "python3"
  },
  "language_info": {
   "codemirror_mode": {
    "name": "ipython",
    "version": 3
   },
   "file_extension": ".py",
   "mimetype": "text/x-python",
   "name": "python",
   "nbconvert_exporter": "python",
   "pygments_lexer": "ipython3",
   "version": "3.10.7"
  },
  "vscode": {
   "interpreter": {
    "hash": "949777d72b0d2535278d3dc13498b2535136f6dfe0678499012e853ee9abcab1"
   }
  }
 },
 "nbformat": 4,
 "nbformat_minor": 5
}
